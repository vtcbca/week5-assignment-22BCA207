{
 "cells": [
  {
   "cell_type": "code",
   "execution_count": 1,
   "id": "90050910",
   "metadata": {},
   "outputs": [],
   "source": [
    "import csv "
   ]
  },
  {
   "cell_type": "code",
   "execution_count": 2,
   "id": "a179db30",
   "metadata": {},
   "outputs": [],
   "source": [
    "with open('student.csv','w',newline=\"\") as f:\n",
    "    writer=csv.writer(f)\n",
    "    header=['sid','sname','city','contact']\n",
    "    writer.writerow(header)\n"
   ]
  },
  {
   "cell_type": "code",
   "execution_count": 5,
   "id": "2790bbf8",
   "metadata": {},
   "outputs": [
    {
     "ename": "IndentationError",
     "evalue": "unexpected indent (3347003519.py, line 4)",
     "output_type": "error",
     "traceback": [
      "\u001b[1;36m  Cell \u001b[1;32mIn[5], line 4\u001b[1;36m\u001b[0m\n\u001b[1;33m    writer.writerows(rows)\u001b[0m\n\u001b[1;37m    ^\u001b[0m\n\u001b[1;31mIndentationError\u001b[0m\u001b[1;31m:\u001b[0m unexpected indent\n"
     ]
    }
   ],
   "source": [
    " rows=[[1,'om','bardoli',99874521020],[2,'sai','Mandvi',8574859652],\n",
    "          [3,'ram','surat',8745962020],[4,'Radha','bardoli',8963200036],\n",
    "          [5,'kishan','vyara',7485996621]]\n",
    "     writer.writerows(rows)\n",
    "    "
   ]
  },
  {
   "cell_type": "code",
   "execution_count": 6,
   "id": "c92a02fe",
   "metadata": {},
   "outputs": [
    {
     "name": "stdout",
     "output_type": "stream",
     "text": [
      "Enter Student id:1\n",
      "Enter Student name:om\n",
      "Enter Student city:surat\n",
      "Enter Student contact:1234567891\n"
     ]
    },
    {
     "ename": "ValueError",
     "evalue": "I/O operation on closed file.",
     "output_type": "error",
     "traceback": [
      "\u001b[1;31m---------------------------------------------------------------------------\u001b[0m",
      "\u001b[1;31mValueError\u001b[0m                                Traceback (most recent call last)",
      "Cell \u001b[1;32mIn[6], line 7\u001b[0m\n\u001b[0;32m      5\u001b[0m contact\u001b[38;5;241m=\u001b[39m\u001b[38;5;28minput\u001b[39m(\u001b[38;5;124m\"\u001b[39m\u001b[38;5;124mEnter Student contact:\u001b[39m\u001b[38;5;124m\"\u001b[39m)\n\u001b[0;32m      6\u001b[0m row\u001b[38;5;241m=\u001b[39m[sid,sname,city,contact]\n\u001b[1;32m----> 7\u001b[0m \u001b[43mwriter\u001b[49m\u001b[38;5;241;43m.\u001b[39;49m\u001b[43mwriterow\u001b[49m\u001b[43m(\u001b[49m\u001b[43mrow\u001b[49m\u001b[43m)\u001b[49m\n",
      "\u001b[1;31mValueError\u001b[0m: I/O operation on closed file."
     ]
    }
   ],
   "source": [
    "for i in range(5):\n",
    "        sid=int(input(\"Enter Student id:\"))\n",
    "        sname=input(\"Enter Student name:\")\n",
    "        city=input(\"Enter Student city:\")\n",
    "        contact=input(\"Enter Student contact:\")\n",
    "        row=[sid,sname,city,contact]\n",
    "        writer.writerow(row)\n"
   ]
  },
  {
   "cell_type": "code",
   "execution_count": 7,
   "id": "4c8ad944",
   "metadata": {},
   "outputs": [
    {
     "name": "stdout",
     "output_type": "stream",
     "text": [
      "================Students Details==================\n",
      "sid\tsname\tcity\tcontact\n"
     ]
    }
   ],
   "source": [
    "with open(\"student.csv\",'r',newline=\"\") as f:\n",
    "    \n",
    "    read=csv.reader(f)\n",
    "    head=next(read)\n",
    "    print(\"================Students Details==================\") \n",
    "    print(f\"{head[0]}\\t{head[1]}\\t{head[2]}\\t{head[3]}\")\n",
    "    for r in read:\n",
    "        print(f\"{r[0]}\\t{r[1]}\\t{r[2]}\\t{r[3]}\\n\")"
   ]
  },
  {
   "cell_type": "code",
   "execution_count": null,
   "id": "8ba7f1dc",
   "metadata": {},
   "outputs": [],
   "source": []
  }
 ],
 "metadata": {
  "kernelspec": {
   "display_name": "Python 3 (ipykernel)",
   "language": "python",
   "name": "python3"
  },
  "language_info": {
   "codemirror_mode": {
    "name": "ipython",
    "version": 3
   },
   "file_extension": ".py",
   "mimetype": "text/x-python",
   "name": "python",
   "nbconvert_exporter": "python",
   "pygments_lexer": "ipython3",
   "version": "3.11.4"
  }
 },
 "nbformat": 4,
 "nbformat_minor": 5
}
